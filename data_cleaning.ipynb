{
 "cells": [
  {
   "cell_type": "markdown",
   "id": "52c100bb-5c23-408c-a6db-4b6ea2fe9591",
   "metadata": {},
   "source": [
    "The Dataset was obtained through [Kaggle](https://www.kaggle.com/datasets/ulrikthygepedersen/fastfood-nutrition/data). \n",
    "\n",
    "This notebook aims to clean and wrangle raw data for it to be ready to be analyzed."
   ]
  },
  {
   "cell_type": "markdown",
   "id": "71ed13e5-9766-44ed-b63c-69e1969ffa5e",
   "metadata": {},
   "source": [
    "# DATA CLEANING"
   ]
  },
  {
   "cell_type": "code",
   "execution_count": 1,
   "id": "ed2358da-2148-45e6-b484-2875e3bbd241",
   "metadata": {
    "scrolled": true
   },
   "outputs": [
    {
     "name": "stdout",
     "output_type": "stream",
     "text": [
      "<class 'pandas.core.frame.DataFrame'>\n",
      "RangeIndex: 515 entries, 0 to 514\n",
      "Data columns (total 17 columns):\n",
      " #   Column       Non-Null Count  Dtype  \n",
      "---  ------       --------------  -----  \n",
      " 0   restaurant   515 non-null    object \n",
      " 1   item         515 non-null    object \n",
      " 2   calories     515 non-null    int64  \n",
      " 3   cal_fat      515 non-null    int64  \n",
      " 4   total_fat    515 non-null    int64  \n",
      " 5   sat_fat      515 non-null    float64\n",
      " 6   trans_fat    515 non-null    float64\n",
      " 7   cholesterol  515 non-null    int64  \n",
      " 8   sodium       515 non-null    int64  \n",
      " 9   total_carb   515 non-null    int64  \n",
      " 10  fiber        503 non-null    float64\n",
      " 11  sugar        515 non-null    int64  \n",
      " 12  protein      514 non-null    float64\n",
      " 13  vit_a        301 non-null    float64\n",
      " 14  vit_c        305 non-null    float64\n",
      " 15  calcium      305 non-null    float64\n",
      " 16  salad        515 non-null    object \n",
      "dtypes: float64(7), int64(7), object(3)\n",
      "memory usage: 68.5+ KB\n"
     ]
    }
   ],
   "source": [
    "import pandas as pd\n",
    "import numpy as np\n",
    "\n",
    "#set the working directory where the dataset lives\n",
    "file_path = \"C:/Users/Patrick Behnke/Desktop/Data Analytics/Projects/Project 2/Dataset/fastfood.csv\"\n",
    "\n",
    "df = pd.read_csv(file_path)\n",
    "\n",
    "\n",
    "#quick look on data\n",
    "df.head()\n",
    "df.info()"
   ]
  },
  {
   "cell_type": "markdown",
   "id": "b74e1c65-d3f5-48c0-8cb3-15af5f15cfd4",
   "metadata": {},
   "source": [
    "#### DISCLAIMER: For analysis, rows missing fiber or protein values were dropped to ensure integrity of primary nutrient metrics. For micronutrients (Vitamin A, Vitamin C, Calcium), missing values were assumed to be zero (not present/negligible) to retain menu item diversity and avoid unnecessary row loss."
   ]
  },
  {
   "cell_type": "markdown",
   "id": "5c4b3d85-2877-4553-8737-422ef0c0fdc8",
   "metadata": {},
   "source": [
    "### Verify all the cells that has missing value is being treated as Null."
   ]
  },
  {
   "cell_type": "code",
   "execution_count": 2,
   "id": "d552bf6f-ab8a-4811-a9a3-5a4533ab9fe9",
   "metadata": {},
   "outputs": [
    {
     "data": {
      "text/plain": [
       "restaurant       0\n",
       "item             0\n",
       "calories         0\n",
       "cal_fat          0\n",
       "total_fat        0\n",
       "sat_fat          0\n",
       "trans_fat        0\n",
       "cholesterol      0\n",
       "sodium           0\n",
       "total_carb       0\n",
       "fiber           12\n",
       "sugar            0\n",
       "protein          1\n",
       "vit_a          214\n",
       "vit_c          210\n",
       "calcium        210\n",
       "salad            0\n",
       "dtype: int64"
      ]
     },
     "execution_count": 2,
     "metadata": {},
     "output_type": "execute_result"
    }
   ],
   "source": [
    "#make sure NaN/NA values are treated as null\n",
    "df = df.replace({np.nan: None})\n",
    "\n",
    "#check total missing values\n",
    "df.isnull().sum()"
   ]
  },
  {
   "cell_type": "markdown",
   "id": "c0bd6cc2-60af-4de4-8c02-a406d715f441",
   "metadata": {},
   "source": [
    "#### Null values from vitamins are accepted as deficiencies can occur from poor diet."
   ]
  },
  {
   "cell_type": "markdown",
   "id": "caeda58a-b614-4b05-b111-cc4507de3499",
   "metadata": {},
   "source": [
    "### Remove leading/trailing spaces, duplicates, and ensure data integrity."
   ]
  },
  {
   "cell_type": "code",
   "execution_count": 3,
   "id": "2a891187-83dd-410c-9c77-e45e90dd7ecd",
   "metadata": {},
   "outputs": [
    {
     "data": {
      "text/plain": [
       "restaurant       0\n",
       "item             0\n",
       "calories         0\n",
       "cal_fat          0\n",
       "total_fat        0\n",
       "sat_fat          0\n",
       "trans_fat        0\n",
       "cholesterol      0\n",
       "sodium           0\n",
       "total_carb       0\n",
       "fiber            0\n",
       "sugar            0\n",
       "protein          0\n",
       "vit_a            0\n",
       "vit_c            0\n",
       "calcium          0\n",
       "salad          493\n",
       "dtype: int64"
      ]
     },
     "execution_count": 3,
     "metadata": {},
     "output_type": "execute_result"
    }
   ],
   "source": [
    "#get the columns with restaurant names and items and remove the leading/trailing space\n",
    "str_cols = [\"restaurant\", \"item\"]\n",
    "df[str_cols] = df[str_cols].apply(lambda s: s.str.strip())\n",
    "\n",
    "#remove the missing values from fiber and protein column\n",
    "df_cleaned = df.dropna(subset = [\"fiber\", \"protein\"]).drop_duplicates(subset = [\"item\"])\n",
    "\n",
    "#ensure string columns are string\n",
    "df_cleaned[str_cols] = df_cleaned[str_cols].astype(str)\n",
    "\n",
    "#ensure integer columns are float with 1 decimal place\n",
    "num_cols = df_cleaned.columns[2:]\n",
    "df_cleaned[num_cols] = df_cleaned[num_cols].apply(pd.to_numeric, errors=\"coerce\").astype(\"float64\") \n",
    "\n",
    "#convert NaN to 0 \n",
    "nutrient_cols = [\"vit_a\", \"vit_c\", \"calcium\"]\n",
    "df_cleaned[nutrient_cols] = df_cleaned[nutrient_cols].fillna(0)\n",
    "\n",
    "df_cleaned.isnull().sum()"
   ]
  },
  {
   "cell_type": "markdown",
   "id": "f0903194-b213-4eb7-8fbc-f55c8981062a",
   "metadata": {},
   "source": [
    "### Remove unnecessary columns and create calculated columns for the analysis."
   ]
  },
  {
   "cell_type": "code",
   "execution_count": 4,
   "id": "7e1852f8-f34d-4e8a-9ec1-8d542b0139f5",
   "metadata": {},
   "outputs": [
    {
     "data": {
      "text/html": [
       "<div>\n",
       "<style scoped>\n",
       "    .dataframe tbody tr th:only-of-type {\n",
       "        vertical-align: middle;\n",
       "    }\n",
       "\n",
       "    .dataframe tbody tr th {\n",
       "        vertical-align: top;\n",
       "    }\n",
       "\n",
       "    .dataframe thead th {\n",
       "        text-align: right;\n",
       "    }\n",
       "</style>\n",
       "<table border=\"1\" class=\"dataframe\">\n",
       "  <thead>\n",
       "    <tr style=\"text-align: right;\">\n",
       "      <th></th>\n",
       "      <th>restaurant</th>\n",
       "      <th>item</th>\n",
       "      <th>calories</th>\n",
       "      <th>cal_fat</th>\n",
       "      <th>total_fat</th>\n",
       "      <th>sat_fat</th>\n",
       "      <th>trans_fat</th>\n",
       "      <th>cholesterol</th>\n",
       "      <th>sodium</th>\n",
       "      <th>total_carb</th>\n",
       "      <th>fiber</th>\n",
       "      <th>sugar</th>\n",
       "      <th>protein</th>\n",
       "      <th>vit_a</th>\n",
       "      <th>vit_c</th>\n",
       "      <th>calcium</th>\n",
       "      <th>protein_efficiency</th>\n",
       "    </tr>\n",
       "  </thead>\n",
       "  <tbody>\n",
       "    <tr>\n",
       "      <th>0</th>\n",
       "      <td>Mcdonalds</td>\n",
       "      <td>Artisan Grilled Chicken Sandwich</td>\n",
       "      <td>380.0</td>\n",
       "      <td>60.0</td>\n",
       "      <td>7.0</td>\n",
       "      <td>2.0</td>\n",
       "      <td>0.0</td>\n",
       "      <td>95.0</td>\n",
       "      <td>1110.0</td>\n",
       "      <td>44.0</td>\n",
       "      <td>3.0</td>\n",
       "      <td>11.0</td>\n",
       "      <td>37.0</td>\n",
       "      <td>4.0</td>\n",
       "      <td>20.0</td>\n",
       "      <td>20.0</td>\n",
       "      <td>9.736842</td>\n",
       "    </tr>\n",
       "    <tr>\n",
       "      <th>1</th>\n",
       "      <td>Mcdonalds</td>\n",
       "      <td>Single Bacon Smokehouse Burger</td>\n",
       "      <td>840.0</td>\n",
       "      <td>410.0</td>\n",
       "      <td>45.0</td>\n",
       "      <td>17.0</td>\n",
       "      <td>1.5</td>\n",
       "      <td>130.0</td>\n",
       "      <td>1580.0</td>\n",
       "      <td>62.0</td>\n",
       "      <td>2.0</td>\n",
       "      <td>18.0</td>\n",
       "      <td>46.0</td>\n",
       "      <td>6.0</td>\n",
       "      <td>20.0</td>\n",
       "      <td>20.0</td>\n",
       "      <td>5.476190</td>\n",
       "    </tr>\n",
       "    <tr>\n",
       "      <th>2</th>\n",
       "      <td>Mcdonalds</td>\n",
       "      <td>Double Bacon Smokehouse Burger</td>\n",
       "      <td>1130.0</td>\n",
       "      <td>600.0</td>\n",
       "      <td>67.0</td>\n",
       "      <td>27.0</td>\n",
       "      <td>3.0</td>\n",
       "      <td>220.0</td>\n",
       "      <td>1920.0</td>\n",
       "      <td>63.0</td>\n",
       "      <td>3.0</td>\n",
       "      <td>18.0</td>\n",
       "      <td>70.0</td>\n",
       "      <td>10.0</td>\n",
       "      <td>20.0</td>\n",
       "      <td>50.0</td>\n",
       "      <td>6.194690</td>\n",
       "    </tr>\n",
       "    <tr>\n",
       "      <th>3</th>\n",
       "      <td>Mcdonalds</td>\n",
       "      <td>Grilled Bacon Smokehouse Chicken Sandwich</td>\n",
       "      <td>750.0</td>\n",
       "      <td>280.0</td>\n",
       "      <td>31.0</td>\n",
       "      <td>10.0</td>\n",
       "      <td>0.5</td>\n",
       "      <td>155.0</td>\n",
       "      <td>1940.0</td>\n",
       "      <td>62.0</td>\n",
       "      <td>2.0</td>\n",
       "      <td>18.0</td>\n",
       "      <td>55.0</td>\n",
       "      <td>6.0</td>\n",
       "      <td>25.0</td>\n",
       "      <td>20.0</td>\n",
       "      <td>7.333333</td>\n",
       "    </tr>\n",
       "    <tr>\n",
       "      <th>4</th>\n",
       "      <td>Mcdonalds</td>\n",
       "      <td>Crispy Bacon Smokehouse Chicken Sandwich</td>\n",
       "      <td>920.0</td>\n",
       "      <td>410.0</td>\n",
       "      <td>45.0</td>\n",
       "      <td>12.0</td>\n",
       "      <td>0.5</td>\n",
       "      <td>120.0</td>\n",
       "      <td>1980.0</td>\n",
       "      <td>81.0</td>\n",
       "      <td>4.0</td>\n",
       "      <td>18.0</td>\n",
       "      <td>46.0</td>\n",
       "      <td>6.0</td>\n",
       "      <td>20.0</td>\n",
       "      <td>20.0</td>\n",
       "      <td>5.000000</td>\n",
       "    </tr>\n",
       "  </tbody>\n",
       "</table>\n",
       "</div>"
      ],
      "text/plain": [
       "  restaurant                                       item  calories  cal_fat  \\\n",
       "0  Mcdonalds           Artisan Grilled Chicken Sandwich     380.0     60.0   \n",
       "1  Mcdonalds             Single Bacon Smokehouse Burger     840.0    410.0   \n",
       "2  Mcdonalds             Double Bacon Smokehouse Burger    1130.0    600.0   \n",
       "3  Mcdonalds  Grilled Bacon Smokehouse Chicken Sandwich     750.0    280.0   \n",
       "4  Mcdonalds   Crispy Bacon Smokehouse Chicken Sandwich     920.0    410.0   \n",
       "\n",
       "   total_fat  sat_fat  trans_fat  cholesterol  sodium  total_carb  fiber  \\\n",
       "0        7.0      2.0        0.0         95.0  1110.0        44.0    3.0   \n",
       "1       45.0     17.0        1.5        130.0  1580.0        62.0    2.0   \n",
       "2       67.0     27.0        3.0        220.0  1920.0        63.0    3.0   \n",
       "3       31.0     10.0        0.5        155.0  1940.0        62.0    2.0   \n",
       "4       45.0     12.0        0.5        120.0  1980.0        81.0    4.0   \n",
       "\n",
       "   sugar  protein  vit_a  vit_c  calcium  protein_efficiency  \n",
       "0   11.0     37.0    4.0   20.0     20.0            9.736842  \n",
       "1   18.0     46.0    6.0   20.0     20.0            5.476190  \n",
       "2   18.0     70.0   10.0   20.0     50.0            6.194690  \n",
       "3   18.0     55.0    6.0   25.0     20.0            7.333333  \n",
       "4   18.0     46.0    6.0   20.0     20.0            5.000000  "
      ]
     },
     "execution_count": 4,
     "metadata": {},
     "output_type": "execute_result"
    }
   ],
   "source": [
    "#salad column won't be used for this analysis\n",
    "df_cleaned = df_cleaned.drop(\"salad\", axis=1)\n",
    "\n",
    "#get the protein efficiency (protein per calorie)\n",
    "df_cleaned[\"protein_efficiency\"] = df_cleaned[\"protein\"] / df_cleaned[\"calories\"] * 100\n",
    "\n",
    "df_cleaned.head()"
   ]
  },
  {
   "cell_type": "markdown",
   "id": "e3270ed4-f391-43f4-8559-653e2d092f38",
   "metadata": {},
   "source": [
    "### Validate the changes made."
   ]
  },
  {
   "cell_type": "code",
   "execution_count": 5,
   "id": "3f903a68-cb81-4944-b284-32c3d323b1bf",
   "metadata": {},
   "outputs": [
    {
     "name": "stdout",
     "output_type": "stream",
     "text": [
      "Original shape: (515, 17)\n",
      "Cleaned shape: (493, 17)\n",
      "<class 'pandas.core.frame.DataFrame'>\n",
      "Index: 493 entries, 0 to 514\n",
      "Data columns (total 17 columns):\n",
      " #   Column              Non-Null Count  Dtype  \n",
      "---  ------              --------------  -----  \n",
      " 0   restaurant          493 non-null    object \n",
      " 1   item                493 non-null    object \n",
      " 2   calories            493 non-null    float64\n",
      " 3   cal_fat             493 non-null    float64\n",
      " 4   total_fat           493 non-null    float64\n",
      " 5   sat_fat             493 non-null    float64\n",
      " 6   trans_fat           493 non-null    float64\n",
      " 7   cholesterol         493 non-null    float64\n",
      " 8   sodium              493 non-null    float64\n",
      " 9   total_carb          493 non-null    float64\n",
      " 10  fiber               493 non-null    float64\n",
      " 11  sugar               493 non-null    float64\n",
      " 12  protein             493 non-null    float64\n",
      " 13  vit_a               493 non-null    float64\n",
      " 14  vit_c               493 non-null    float64\n",
      " 15  calcium             493 non-null    float64\n",
      " 16  protein_efficiency  493 non-null    float64\n",
      "dtypes: float64(15), object(2)\n",
      "memory usage: 69.3+ KB\n"
     ]
    }
   ],
   "source": [
    "print(\"Original shape:\", df.shape)\n",
    "print(\"Cleaned shape:\", df_cleaned.shape)\n",
    "df_cleaned.info()"
   ]
  },
  {
   "cell_type": "markdown",
   "id": "7511a790-2073-4162-a237-1a9bec96f72d",
   "metadata": {},
   "source": [
    "### Export for PowerBI analyzation."
   ]
  },
  {
   "cell_type": "code",
   "execution_count": 6,
   "id": "d6eb8e72-c96b-48d2-899b-3abc0ca0bccd",
   "metadata": {},
   "outputs": [
    {
     "name": "stdout",
     "output_type": "stream",
     "text": [
      "Cleaned dataset is saved to: C:/Users/Patrick Behnke/Desktop/Data Analytics/Projects/Project 2/Dataset/fastfood_cleaned.csv\n"
     ]
    }
   ],
   "source": [
    "cleaned_path = \"C:/Users/Patrick Behnke/Desktop/Data Analytics/Projects/Project 2/Dataset/fastfood_cleaned.csv\"\n",
    "df_cleaned.to_csv(cleaned_path, index=False)\n",
    "print(\"Cleaned dataset is saved to:\", cleaned_path)"
   ]
  },
  {
   "cell_type": "code",
   "execution_count": null,
   "id": "486e476e-d72a-4544-a49e-43c6835c35e3",
   "metadata": {},
   "outputs": [],
   "source": []
  }
 ],
 "metadata": {
  "kernelspec": {
   "display_name": "Python [conda env:base] *",
   "language": "python",
   "name": "conda-base-py"
  },
  "language_info": {
   "codemirror_mode": {
    "name": "ipython",
    "version": 3
   },
   "file_extension": ".py",
   "mimetype": "text/x-python",
   "name": "python",
   "nbconvert_exporter": "python",
   "pygments_lexer": "ipython3",
   "version": "3.13.5"
  }
 },
 "nbformat": 4,
 "nbformat_minor": 5
}
